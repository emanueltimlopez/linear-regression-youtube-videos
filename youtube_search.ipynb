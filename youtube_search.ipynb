{
 "cells": [
  {
   "cell_type": "code",
   "execution_count": 17,
   "metadata": {},
   "outputs": [],
   "source": [
    "import pandas as pd\n",
    "import matplotlib.pyplot as plt\n",
    "import time\n",
    "\n",
    "from apiclient.discovery import build\n",
    "from apiclient.errors import HttpError\n",
    "from oauth2client.tools import argparser\n",
    "\n",
    "import sys\n",
    "sys.path.append('..')\n",
    "from helpers import secrets"
   ]
  },
  {
   "cell_type": "code",
   "execution_count": 18,
   "metadata": {},
   "outputs": [],
   "source": [
    "youtube = build(\"youtube\", \"v3\", developerKey=secrets.yt_key)"
   ]
  },
  {
   "cell_type": "code",
   "execution_count": 19,
   "metadata": {},
   "outputs": [],
   "source": [
    "def youtubeSearch(query, token=None, maxResults=50, order=\"relevance\", location=None, location_radius=None):\n",
    "\n",
    "    search_response = youtube.search().list(\n",
    "        q=query,\n",
    "        type=\"video\",\n",
    "        pageToken=token,\n",
    "        order = order,\n",
    "        part=\"id,snippet\",\n",
    "        maxResults=maxResults,\n",
    "        location=location,\n",
    "        locationRadius=location_radius\n",
    "    ).execute()\n",
    "    \n",
    "    return search_response\n",
    "\n",
    "def storeResults(results):\n",
    "    \n",
    "    title = []\n",
    "    channelId = []\n",
    "    channelTitle = []\n",
    "    categoryId = []\n",
    "    viewCount = []\n",
    "    likeCount = []\n",
    "    dislikeCount = []\n",
    "    commentCount = []\n",
    "    category = []\n",
    "    tags = []\n",
    "    videos = []\n",
    "    dates = []\n",
    "    subs = []\n",
    "    \n",
    "    for search_result in results:\n",
    "        if search_result[\"id\"][\"kind\"] == \"youtube#video\":\n",
    "\n",
    "            title.append(search_result['snippet']['title'])\n",
    "\n",
    "            stats = youtube.videos().list(\n",
    "                part='statistics, snippet',\n",
    "                id=search_result['id']['videoId']).execute()\n",
    "            \n",
    "            stats_channel = youtube.channels().list(\n",
    "                part='statistics',\n",
    "                id=stats['items'][0]['snippet']['channelId']).execute()\n",
    "                \n",
    "            channelId.append(stats['items'][0]['snippet']['channelId']) \n",
    "            channelTitle.append(stats['items'][0]['snippet']['channelTitle']) \n",
    "            categoryId.append(stats['items'][0]['snippet']['categoryId']) \n",
    "            viewCount.append(stats['items'][0]['statistics']['viewCount'])\n",
    "            dates.append(stats['items'][0]['snippet']['publishedAt'])\n",
    "            subs.append(stats_channel['items'][0]['statistics'].get('subscriberCount', 0))\n",
    "            \n",
    "            try:\n",
    "                likeCount.append(stats['items'][0]['statistics']['likeCount'])\n",
    "            except:\n",
    "                likeCount.append(0)\n",
    "                \n",
    "            try:\n",
    "                dislikeCount.append(stats['items'][0]['statistics']['dislikeCount'])     \n",
    "            except:\n",
    "                dislikeCount.append(0)\n",
    "\n",
    "            if 'commentCount' in stats['items'][0]['statistics'].keys():\n",
    "                commentCount.append(stats['items'][0]['statistics']['commentCount'])\n",
    "            else:\n",
    "                commentCount.append(0)\n",
    "         \n",
    "            if 'tags' in stats['items'][0]['snippet'].keys():\n",
    "                tags.append(stats['items'][0]['snippet']['tags'])\n",
    "            else:\n",
    "                tags.append(0)\n",
    "                \n",
    "    youtube_dict = {'tags':tags,'channelId': channelId,'channelTitle': channelTitle,\n",
    "                    'categoryId':categoryId,'title':title,\n",
    "                    'viewCount':viewCount,'likeCount':likeCount,'dislikeCount':dislikeCount,\n",
    "                    'commentCount':commentCount, 'publishAt': dates, 'subs': subs}\n",
    " \n",
    "    return youtube_dict"
   ]
  },
  {
   "cell_type": "code",
   "execution_count": 20,
   "metadata": {},
   "outputs": [],
   "source": [
    "def writeCSV(results, filename, addHeader):\n",
    "    import csv\n",
    "    keys = sorted(results.keys())\n",
    "    with open(filename, \"a\", newline=\"\", encoding=\"utf-8\") as output:\n",
    "        writer = csv.writer(output, delimiter=\",\")\n",
    "        if addHeader:\n",
    "            writer.writerow(keys)\n",
    "        writer.writerows(zip(*[results[key] for key in keys]))"
   ]
  },
  {
   "cell_type": "code",
   "execution_count": 23,
   "metadata": {},
   "outputs": [
    {
     "name": "stdout",
     "output_type": "stream",
     "text": [
      "CKYEEAA\n",
      "CNgEEAA\n"
     ]
    }
   ],
   "source": [
    "q=\"mario bros\"\r\n",
    "items = []\r\n",
    "pageToken = None\r\n",
    "for i in range(10):\r\n",
    "    response = youtubeSearch(q, pageToken)\r\n",
    "    nextPage = response.get(\"nextPageToken\", None)\r\n",
    "    if nextPage is not None:\r\n",
    "        pageToken = nextPage\r\n",
    "        print(nextPage)\r\n",
    "    time.sleep(5)\r\n",
    "    items = items + response.get(\"items\", [])\r\n",
    "multiple_results = storeResults(items)\r\n"
   ]
  },
  {
   "cell_type": "code",
   "execution_count": null,
   "metadata": {},
   "outputs": [],
   "source": [
    "print({\n",
    "    'tags': multiple_results['tags'][0],\n",
    "    'channelId': multiple_results['channelId'][0],\n",
    "    'channelTitle': multiple_results['channelTitle'][0],\n",
    "    'categoryId':multiple_results['categoryId'][0],\n",
    "    'title':multiple_results['title'][0],\n",
    "    'viewCount':multiple_results['viewCount'][0],\n",
    "    'likeCount':multiple_results['likeCount'][0],\n",
    "    'dislikeCount':multiple_results['dislikeCount'][0],\n",
    "    'commentCount':multiple_results['commentCount'][0],\n",
    "    'publishAt': multiple_results['publishAt'][0]\n",
    "})"
   ]
  },
  {
   "cell_type": "code",
   "execution_count": 24,
   "metadata": {},
   "outputs": [],
   "source": [
    "file = \"results_data_videos.csv\"\r\n",
    "writeCSV(multiple_results, file, pageToken is None)"
   ]
  },
  {
   "cell_type": "code",
   "execution_count": null,
   "metadata": {},
   "outputs": [],
   "source": []
  },
  {
   "cell_type": "code",
   "execution_count": null,
   "metadata": {},
   "outputs": [],
   "source": []
  }
 ],
 "metadata": {
  "kernelspec": {
   "display_name": "Python 3",
   "language": "python",
   "name": "python3"
  },
  "language_info": {
   "codemirror_mode": {
    "name": "ipython",
    "version": 3
   },
   "file_extension": ".py",
   "mimetype": "text/x-python",
   "name": "python",
   "nbconvert_exporter": "python",
   "pygments_lexer": "ipython3",
   "version": "3.6.12"
  }
 },
 "nbformat": 4,
 "nbformat_minor": 4
}